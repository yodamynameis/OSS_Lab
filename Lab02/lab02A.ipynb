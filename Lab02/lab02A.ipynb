{
 "cells": [
  {
   "cell_type": "markdown",
   "id": "eb420d23-ded4-4240-b185-0bb8aab65e14",
   "metadata": {},
   "source": [
    "## Anshul A Singh - 23103072\n",
    "## Lab 02\n",
    "#### Q1.\n"
   ]
  },
  {
   "cell_type": "code",
   "execution_count": 16,
   "id": "d28756eb-1113-4c65-a676-4f7fd1f4a94f",
   "metadata": {},
   "outputs": [
    {
     "name": "stdout",
     "output_type": "stream",
     "text": [
      "apple cherry\n"
     ]
    }
   ],
   "source": [
    "fruits=['apple','mango','ornage','kiwi','cherry']\n",
    "print(fruits[0],fruits[4]) "
   ]
  },
  {
   "cell_type": "code",
   "execution_count": 17,
   "id": "60ffde8a-fc17-44a0-9b82-acbf794489b0",
   "metadata": {},
   "outputs": [
    {
     "name": "stdout",
     "output_type": "stream",
     "text": [
      "['mango', 'ornage', 'kiwi']\n"
     ]
    }
   ],
   "source": [
    "print(fruits[1:4:])"
   ]
  },
  {
   "cell_type": "markdown",
   "id": "2982834e-7ff6-40c1-ab42-ad199ad5439c",
   "metadata": {},
   "source": [
    "### Q2"
   ]
  },
  {
   "cell_type": "code",
   "execution_count": 22,
   "id": "3cb1a594-73aa-4898-8892-d0ed61f587ed",
   "metadata": {},
   "outputs": [],
   "source": [
    "dict={'anshul':20,'arjun':21,'honey':19,'avinash':22,'ram':97}"
   ]
  },
  {
   "cell_type": "code",
   "execution_count": 40,
   "id": "1dd5e6d0-632a-4f0a-b766-c4164596a247",
   "metadata": {},
   "outputs": [
    {
     "name": "stdin",
     "output_type": "stream",
     "text": [
      "Enter the name:  honey\n"
     ]
    },
    {
     "name": "stdout",
     "output_type": "stream",
     "text": [
      "19\n"
     ]
    }
   ],
   "source": [
    "# print(dict.values())\n",
    "# print(dict.keys())\n",
    "# print(dict)\n",
    "n=input(\"Enter the name: \")\n",
    "print(dict[n])"
   ]
  },
  {
   "cell_type": "code",
   "execution_count": 42,
   "id": "56a4d2b5-ae51-41f2-b967-019c1ee3f146",
   "metadata": {},
   "outputs": [
    {
     "name": "stdout",
     "output_type": "stream",
     "text": [
      "{'anshul': 20, 'arjun': 21, 'honey': 19, 'avinash': 22, 'ram': 97, 'poppy': 45}\n"
     ]
    }
   ],
   "source": [
    "dict['poppy']=45\n",
    "print(dict)"
   ]
  },
  {
   "cell_type": "markdown",
   "id": "c2331499-db02-4aa8-8f55-c995714d4730",
   "metadata": {},
   "source": [
    "### Q3"
   ]
  },
  {
   "cell_type": "code",
   "execution_count": 58,
   "id": "06bdbdf6-b700-4ff6-8cbd-bc3b8edc14f6",
   "metadata": {},
   "outputs": [
    {
     "name": "stdout",
     "output_type": "stream",
     "text": [
      "[1, 2, 2, 3, 3, 3]\n"
     ]
    }
   ],
   "source": [
    "def duplicate(l):\n",
    "    s=set()\n",
    "    dup=[]\n",
    "    for i in l:\n",
    "        if i in s:\n",
    "            dup.append(i)\n",
    "        else:\n",
    "            s.add(i)\n",
    "    return dup\n",
    "\n",
    "list=[2,3,2,3,1,3,1,3,2,5,6]\n",
    "ans=duplicate(list)\n",
    "ans.sort()\n",
    "print(ans)"
   ]
  },
  {
   "cell_type": "markdown",
   "id": "01377d87-0865-416e-84db-b8071ecfd726",
   "metadata": {},
   "source": [
    "### Q4"
   ]
  },
  {
   "cell_type": "code",
   "execution_count": 65,
   "id": "19b2fac0-5870-4b47-bd5c-efa9d6408d86",
   "metadata": {},
   "outputs": [
    {
     "name": "stdout",
     "output_type": "stream",
     "text": [
      "[[1, 2, 3], [4, 5, 6], [7, 8]]\n"
     ]
    }
   ],
   "source": [
    "a = [1, 2, 3, 4, 5, 6, 7, 8]\n",
    "n = 3 \n",
    "\n",
    "res = [a[i:i + n] for i in range(0, len(a), n)]\n",
    "print(res)"
   ]
  },
  {
   "cell_type": "markdown",
   "id": "ebb6dbc4-7d01-4aa6-a2c6-aacb5b4e9399",
   "metadata": {},
   "source": [
    "### Q5"
   ]
  },
  {
   "cell_type": "code",
   "execution_count": 2,
   "id": "da540279-0606-4136-b12b-3553a55a331e",
   "metadata": {},
   "outputs": [
    {
     "name": "stdout",
     "output_type": "stream",
     "text": [
      "['fig', 'apple', 'banana', 'cherry']\n"
     ]
    }
   ],
   "source": [
    "def lensort(strings):\n",
    "    return sorted(strings, key=len)\n",
    "words = ['apple', 'banana', 'fig', 'cherry']\n",
    "print(lensort(words))\n"
   ]
  },
  {
   "cell_type": "code",
   "execution_count": 3,
   "id": "189499b5-6cc3-44d2-890c-c9c95457f559",
   "metadata": {},
   "outputs": [
    {
     "name": "stdout",
     "output_type": "stream",
     "text": [
      "['data.csv', 'report.doc', 'image.png', 'notes.txt', 'archive.zip']\n"
     ]
    }
   ],
   "source": [
    "import os\n",
    "\n",
    "def extsort(filenames):\n",
    "    return sorted(filenames, key=lambda f: os.path.splitext(f)[1])\n",
    "files = ['report.doc', 'data.csv', 'image.png', 'notes.txt', 'archive.zip']\n",
    "print(extsort(files))"
   ]
  },
  {
   "cell_type": "markdown",
   "id": "92d2539c-0e99-42f0-b00f-78efdf94e97a",
   "metadata": {},
   "source": [
    "### Q6"
   ]
  },
  {
   "cell_type": "code",
   "execution_count": 5,
   "id": "fb149a49-5fb8-4cdd-86ea-fa197e875b89",
   "metadata": {},
   "outputs": [],
   "source": [
    "file = open('abc.txt', 'w')\n",
    "file.write('Hello, world!\\n')\n",
    "file.write('Second line.\\n')\n",
    "lines=['my\\n','name\\n','is\\n','anshul\\n']\n",
    "file.writelines(lines)\n",
    "file.close()"
   ]
  },
  {
   "cell_type": "code",
   "execution_count": 11,
   "id": "3f4c5b96-6696-4ee4-9a08-fdb5748cd544",
   "metadata": {},
   "outputs": [
    {
     "name": "stdout",
     "output_type": "stream",
     "text": [
      "Hello, world!\n",
      "Second line.\n",
      "my\n",
      "name\n",
      "is\n",
      "anshul\n",
      "\n"
     ]
    }
   ],
   "source": [
    "file = open('abc.txt', 'r')\n",
    "content=file.read()\n",
    "print(content)\n",
    "file.close()"
   ]
  },
  {
   "cell_type": "code",
   "execution_count": 17,
   "id": "062e4448-b363-4254-b907-9f8ed72640fa",
   "metadata": {},
   "outputs": [
    {
     "name": "stdout",
     "output_type": "stream",
     "text": [
      "Hello, world!\n",
      "Second line.\n",
      "my\n",
      "name\n",
      "is\n",
      "anshul\n"
     ]
    }
   ],
   "source": [
    "file=open('abc.txt','r')\n",
    "line=file.readline()\n",
    "while line:\n",
    "    print(line.strip())\n",
    "    line=file.readline()\n",
    "file.close()"
   ]
  },
  {
   "cell_type": "markdown",
   "id": "4f0e158b-7256-4871-9890-108dfa270594",
   "metadata": {},
   "source": [
    "### Q7"
   ]
  },
  {
   "cell_type": "code",
   "execution_count": 24,
   "id": "45e719bf-50cb-4c01-bb21-d2285a90f1bc",
   "metadata": {},
   "outputs": [
    {
     "name": "stdout",
     "output_type": "stream",
     "text": [
      "chars = 45 \n",
      "words = 8\n",
      "lines = 6\n"
     ]
    }
   ],
   "source": [
    "def file_stats(filename):\n",
    "    num_chars,num_words,num_lines=0,0,0\n",
    "    with open(filename,'r') as f:\n",
    "        for line in f:\n",
    "            num_lines+=1\n",
    "            num_chars+=len(line)\n",
    "            num_words+=len(line.split())\n",
    "    return num_chars,num_words,num_lines\n",
    "\n",
    "char,words,lines=file_stats('abc.txt')\n",
    "print(f'chars = {char} \\nwords = {words}\\nlines = {lines}')"
   ]
  },
  {
   "cell_type": "markdown",
   "id": "fea10a90-9ed1-4331-9825-277fc31fffc2",
   "metadata": {},
   "source": [
    "### Q8"
   ]
  },
  {
   "cell_type": "code",
   "execution_count": 25,
   "id": "0501d4fd-84a2-46b0-9fce-2699be9bf207",
   "metadata": {},
   "outputs": [
    {
     "name": "stdin",
     "output_type": "stream",
     "text": [
      "Enter filename:  abc.txt\n"
     ]
    },
    {
     "name": "stdout",
     "output_type": "stream",
     "text": [
      "anshul\n",
      "is\n",
      "name\n",
      "my\n",
      "Second line.\n",
      "Hello, world!\n"
     ]
    }
   ],
   "source": [
    "filename = input(\"Enter filename: \")\n",
    "try:\n",
    "    with open(filename, 'r') as f:\n",
    "        lines = f.readlines()\n",
    "    for line in reversed(lines):\n",
    "        print(line.rstrip())\n",
    "except FileNotFoundError:\n",
    "    print(\"File not found.\")"
   ]
  },
  {
   "cell_type": "markdown",
   "id": "b09015bf-7180-418f-b73d-6df8453db7d9",
   "metadata": {},
   "source": [
    "### Q9"
   ]
  },
  {
   "cell_type": "code",
   "execution_count": 27,
   "id": "be4df964-e40e-4e83-9295-d29a230c7d81",
   "metadata": {},
   "outputs": [
    {
     "name": "stdin",
     "output_type": "stream",
     "text": [
      "Enter filename:  abc.txt\n"
     ]
    },
    {
     "name": "stdout",
     "output_type": "stream",
     "text": [
      "!dlrow ,olleH\n",
      ".enil dnoceS\n",
      "ym\n",
      "eman\n",
      "si\n",
      "luhsna\n"
     ]
    }
   ],
   "source": [
    "filename = input(\"Enter filename: \")\n",
    "\n",
    "try:\n",
    "    with open(filename, 'r') as file:\n",
    "        for line in file:\n",
    "            # Remove trailing newline and reverse characters in the line\n",
    "            reversed_line = line.rstrip('\\n')[::-1]\n",
    "            print(reversed_line)\n",
    "\n",
    "except FileNotFoundError:\n",
    "    print(\"File not found.\")"
   ]
  },
  {
   "cell_type": "markdown",
   "id": "d8102ee8-d3dd-423d-a984-9a1a7af96fbf",
   "metadata": {},
   "source": [
    "### Q10"
   ]
  },
  {
   "cell_type": "code",
   "execution_count": 29,
   "id": "a7e88f7f-a74c-4370-a817-f1bf89f89123",
   "metadata": {},
   "outputs": [
    {
     "name": "stdout",
     "output_type": "stream",
     "text": [
      "Hello\n",
      ", wor\n",
      "ld!\n",
      "Secon\n",
      "d\n",
      "line.\n",
      "my\n",
      "name\n",
      "is\n",
      "anshu\n",
      "l\n"
     ]
    }
   ],
   "source": [
    "import sys\n",
    "import textwrap\n",
    "\n",
    "\n",
    "width =5\n",
    "\n",
    "with open('abc.txt', 'r') as file:\n",
    "    for line in file:\n",
    "        wrapped_lines = textwrap.wrap(line.rstrip('\\n'), width)\n",
    "        if wrapped_lines:\n",
    "            for wrapped_line in wrapped_lines:\n",
    "                print(wrapped_line)\n",
    "        else:\n",
    "            print()"
   ]
  },
  {
   "cell_type": "markdown",
   "id": "34b5adcd-c9a0-4f2f-8267-d3284b92e06e",
   "metadata": {},
   "source": [
    "### Q11"
   ]
  },
  {
   "cell_type": "code",
   "execution_count": 31,
   "id": "01a81c44-b380-4a31-a827-b8d138b347c5",
   "metadata": {},
   "outputs": [
    {
     "name": "stdout",
     "output_type": "stream",
     "text": [
      "[1, 4, 9, 16]\n"
     ]
    }
   ],
   "source": [
    "def my_map(function, iterable):\n",
    "    return [function(x) for x in iterable]\n",
    "def square(x):\n",
    "    return x * x\n",
    "\n",
    "numbers = [1, 2, 3, 4]\n",
    "squared_numbers = my_map(square, numbers)\n",
    "print(squared_numbers)"
   ]
  },
  {
   "cell_type": "markdown",
   "id": "c749ea28-5730-443b-a105-b307579c660d",
   "metadata": {},
   "source": [
    "### Q12"
   ]
  },
  {
   "cell_type": "code",
   "execution_count": 32,
   "id": "d61fafe1-8369-4204-8029-782f574e0850",
   "metadata": {},
   "outputs": [
    {
     "name": "stdout",
     "output_type": "stream",
     "text": [
      "[2, 4, 6]\n"
     ]
    }
   ],
   "source": [
    "def my_filter(function, iterable):\n",
    "    return [item for item in iterable if function(item)]\n",
    "def is_even(n):\n",
    "    return n % 2 == 0\n",
    "\n",
    "numbers = [1, 2, 3, 4, 5, 6]\n",
    "filtered_numbers = my_filter(is_even, numbers)\n",
    "print(filtered_numbers)"
   ]
  },
  {
   "cell_type": "markdown",
   "id": "38adc738-b3ef-43b6-9778-28d243905950",
   "metadata": {},
   "source": [
    "### Q13"
   ]
  },
  {
   "cell_type": "code",
   "execution_count": 37,
   "id": "56ee7f0d-e4e1-487b-97c2-1da9ca5c5e7e",
   "metadata": {},
   "outputs": [
    {
     "name": "stdout",
     "output_type": "stream",
     "text": [
      "[(0, 0, 0), (0, 1, 1), (0, 2, 2), (0, 3, 3), (0, 4, 4), (1, 1, 2), (1, 2, 3), (1, 3, 4), (2, 2, 4)]\n"
     ]
    }
   ],
   "source": [
    "def triplet(n):\n",
    "    result = []\n",
    "    for a in range(n):\n",
    "        for b in range(a, n):  # start from a to avoid duplicates where b < a\n",
    "            c = a + b\n",
    "            if c < n:\n",
    "                result.append((a, b, c))\n",
    "    return result\n",
    "print(triplet(5))"
   ]
  },
  {
   "cell_type": "markdown",
   "id": "117cbe04-d8d6-4974-ae0c-be0e034688de",
   "metadata": {},
   "source": [
    "### Q14"
   ]
  },
  {
   "cell_type": "code",
   "execution_count": 39,
   "id": "a296b0a8-8545-4527-94a5-1243060a7f1a",
   "metadata": {},
   "outputs": [],
   "source": [
    "csv_content = \"\"\"name,age,city\n",
    "Alice,30,New York\n",
    "Bob,25,Los Angeles\n",
    "Charlie,35,Chicago\n",
    "Diana,28,Houston\n",
    "\"\"\"\n",
    "\n",
    "with open('example.csv', 'w', encoding='utf-8') as f:\n",
    "    f.write(csv_content)\n"
   ]
  },
  {
   "cell_type": "code",
   "execution_count": 40,
   "id": "d8d27d89-b6af-427d-b8a7-5786ca6187c6",
   "metadata": {},
   "outputs": [
    {
     "name": "stdout",
     "output_type": "stream",
     "text": [
      "Parsing CSV file: example.csv\n",
      "['name', 'age', 'city']\n",
      "['Alice', '30', 'New York']\n",
      "['Bob', '25', 'Los Angeles']\n",
      "['Charlie', '35', 'Chicago']\n",
      "['Diana', '28', 'Houston']\n",
      "\n",
      "Single mutations of the word 'cat':\n",
      "aat\n",
      "acat\n",
      "act\n",
      "at\n",
      "bat\n",
      "bcat\n",
      "ca\n",
      "caa\n",
      "caat\n",
      "cab\n",
      "cabt\n",
      "cac\n",
      "cact\n",
      "cad\n",
      "cadt\n",
      "cae\n",
      "caet\n",
      "caf\n",
      "caft\n",
      "cag\n",
      "cagt\n",
      "cah\n",
      "caht\n",
      "cai\n",
      "cait\n",
      "caj\n",
      "cajt\n",
      "cak\n",
      "cakt\n",
      "cal\n",
      "calt\n",
      "cam\n",
      "camt\n",
      "can\n",
      "cant\n",
      "cao\n",
      "caot\n",
      "cap\n",
      "capt\n",
      "caq\n",
      "caqt\n",
      "car\n",
      "cart\n",
      "cas\n",
      "cast\n",
      "cata\n",
      "catb\n",
      "catc\n",
      "catd\n",
      "cate\n",
      "catf\n",
      "catg\n",
      "cath\n",
      "cati\n",
      "catj\n",
      "catk\n",
      "catl\n",
      "catm\n",
      "catn\n",
      "cato\n",
      "catp\n",
      "catq\n",
      "catr\n",
      "cats\n",
      "catt\n",
      "catu\n",
      "catv\n",
      "catw\n",
      "catx\n",
      "caty\n",
      "catz\n",
      "cau\n",
      "caut\n",
      "cav\n",
      "cavt\n",
      "caw\n",
      "cawt\n",
      "cax\n",
      "caxt\n",
      "cay\n",
      "cayt\n",
      "caz\n",
      "cazt\n",
      "cbat\n",
      "cbt\n",
      "ccat\n",
      "cct\n",
      "cdat\n",
      "cdt\n",
      "ceat\n",
      "cet\n",
      "cfat\n",
      "cft\n",
      "cgat\n",
      "cgt\n",
      "chat\n",
      "cht\n",
      "ciat\n",
      "cit\n",
      "cjat\n",
      "cjt\n",
      "ckat\n",
      "ckt\n",
      "clat\n",
      "clt\n",
      "cmat\n",
      "cmt\n",
      "cnat\n",
      "cnt\n",
      "coat\n",
      "cot\n",
      "cpat\n",
      "cpt\n",
      "cqat\n",
      "cqt\n",
      "crat\n",
      "crt\n",
      "csat\n",
      "cst\n",
      "ct\n",
      "cta\n",
      "ctat\n",
      "ctt\n",
      "cuat\n",
      "cut\n",
      "cvat\n",
      "cvt\n",
      "cwat\n",
      "cwt\n",
      "cxat\n",
      "cxt\n",
      "cyat\n",
      "cyt\n",
      "czat\n",
      "czt\n",
      "dat\n",
      "dcat\n",
      "eat\n",
      "ecat\n",
      "fat\n",
      "fcat\n",
      "gat\n",
      "gcat\n",
      "hat\n",
      "hcat\n",
      "iat\n",
      "icat\n",
      "jat\n",
      "jcat\n",
      "kat\n",
      "kcat\n",
      "lat\n",
      "lcat\n",
      "mat\n",
      "mcat\n",
      "nat\n",
      "ncat\n",
      "oat\n",
      "ocat\n",
      "pat\n",
      "pcat\n",
      "qat\n",
      "qcat\n",
      "rat\n",
      "rcat\n",
      "sat\n",
      "scat\n",
      "tat\n",
      "tcat\n",
      "uat\n",
      "ucat\n",
      "vat\n",
      "vcat\n",
      "wat\n",
      "wcat\n",
      "xat\n",
      "xcat\n",
      "yat\n",
      "ycat\n",
      "zat\n",
      "zcat\n"
     ]
    }
   ],
   "source": [
    "import csv\n",
    "\n",
    "def parse_csv(filename):\n",
    "    rows = []\n",
    "    with open(filename, newline='', encoding='utf-8') as csvfile:\n",
    "        reader = csv.reader(csvfile)\n",
    "        for row in reader:\n",
    "            rows.append(row)\n",
    "    return rows\n",
    "\n",
    "def mutate(word):\n",
    "    letters = 'abcdefghijklmnopqrstuvwxyz'\n",
    "    mutations = set()\n",
    "\n",
    "    for i in range(len(word) + 1):\n",
    "        for c in letters:\n",
    "            mutated = word[:i] + c + word[i:]\n",
    "            mutations.add(mutated)\n",
    "\n",
    "    for i in range(len(word)):\n",
    "        mutated = word[:i] + word[i+1:]\n",
    "        mutations.add(mutated)\n",
    "\n",
    "    for i in range(len(word)):\n",
    "        for c in letters:\n",
    "            if word[i] != c:\n",
    "                mutated = word[:i] + c + word[i+1:]\n",
    "                mutations.add(mutated)\n",
    "\n",
    "    for i in range(len(word) - 1):\n",
    "        if word[i] != word[i+1]:\n",
    "            mutated = word[:i] + word[i+1] + word[i] + word[i+2:]\n",
    "            mutations.add(mutated)\n",
    "\n",
    "    mutations.discard(word)\n",
    "    return mutations\n",
    "\n",
    "if __name__ == \"__main__\":\n",
    "    csv_file = 'example.csv'\n",
    "    print(f\"Parsing CSV file: {csv_file}\")\n",
    "    data = parse_csv(csv_file)\n",
    "    for row in data:\n",
    "        print(row)\n",
    "\n",
    "    word = \"cat\"\n",
    "    print(f\"\\nSingle mutations of the word '{word}':\")\n",
    "    mutated_words = mutate(word)\n",
    "    for mw in sorted(mutated_words):\n",
    "        print(mw)\n"
   ]
  },
  {
   "cell_type": "markdown",
   "id": "128465cb-8637-4266-9fe8-c8af2d70e1b2",
   "metadata": {},
   "source": [
    "### Q15"
   ]
  },
  {
   "cell_type": "code",
   "execution_count": 41,
   "id": "09f30745-d54e-48a9-95c4-8aa12c76c42b",
   "metadata": {},
   "outputs": [
    {
     "name": "stdout",
     "output_type": "stream",
     "text": [
      "False\n",
      "True\n",
      "True\n",
      "True\n",
      "True\n",
      "True\n",
      "True\n"
     ]
    }
   ],
   "source": [
    "def nearly_equal(a, b):\n",
    "    letters = 'abcdefghijklmnopqrstuvwxyz'\n",
    "\n",
    "    # If strings are the same, they are not nearly equal by one mutation\n",
    "    if a == b:\n",
    "        return False\n",
    "\n",
    "    len_a, len_b = len(a), len(b)\n",
    "\n",
    "    # 1. Check if a can be obtained by inserting one char into b\n",
    "    if len_a == len_b + 1:\n",
    "        for i in range(len_a):\n",
    "            if a[:i] + a[i+1:] == b:\n",
    "                return True\n",
    "\n",
    "    # 2. Check if a can be obtained by deleting one char from b\n",
    "    elif len_a + 1 == len_b:\n",
    "        for i in range(len_b):\n",
    "            if a == b[:i] + b[i+1:]:\n",
    "                return True\n",
    "\n",
    "    # 3. Check if a can be obtained by replacing one char in b\n",
    "    elif len_a == len_b:\n",
    "        diff_count = 0\n",
    "        for char_a, char_b in zip(a, b):\n",
    "            if char_a != char_b:\n",
    "                diff_count += 1\n",
    "                if diff_count > 1:\n",
    "                    break\n",
    "        if diff_count == 1:\n",
    "            return True\n",
    "\n",
    "        # 4. Check if a can be obtained by swapping two consecutive chars in b\n",
    "        for i in range(len_b - 1):\n",
    "            if b[i] != b[i+1]:  # Only proceed if swapping changes something\n",
    "                swapped = b[:i] + b[i+1] + b[i] + b[i+2:]\n",
    "                if a == swapped:\n",
    "                    return True\n",
    "\n",
    "    return False\n",
    "\n",
    "\n",
    "# Examples:\n",
    "print(nearly_equal(\"cat\", \"cat\"))       \n",
    "print(nearly_equal(\"cats\", \"cat\"))      \n",
    "print(nearly_equal(\"cat\", \"cats\"))      \n",
    "print(nearly_equal(\"bat\", \"cat\"))       \n",
    "print(nearly_equal(\"act\", \"cat\"))       \n",
    "print(nearly_equal(\"cut\", \"cat\"))       \n",
    "print(nearly_equal(\"cast\", \"cat\"))      \n"
   ]
  },
  {
   "cell_type": "markdown",
   "id": "80b9fd4c-5e93-462d-b2ef-ee32db994e0b",
   "metadata": {},
   "source": [
    "### Q16"
   ]
  },
  {
   "cell_type": "code",
   "execution_count": 42,
   "id": "3aa326e8-6348-4305-ab09-658ed20def97",
   "metadata": {},
   "outputs": [
    {
     "name": "stdin",
     "output_type": "stream",
     "text": [
      "Enter file name to analyze:  abc.txt\n"
     ]
    },
    {
     "name": "stdout",
     "output_type": "stream",
     "text": [
      "Character frequencies:\n",
      "\\n: 6\n",
      "' ': 2\n",
      "!: 1\n",
      ",: 1\n",
      ".: 1\n",
      "H: 1\n",
      "S: 1\n",
      "a: 2\n",
      "c: 1\n",
      "d: 2\n",
      "e: 4\n",
      "h: 1\n",
      "i: 2\n",
      "l: 5\n",
      "m: 2\n",
      "n: 4\n",
      "o: 3\n",
      "r: 1\n",
      "s: 2\n",
      "u: 1\n",
      "w: 1\n",
      "y: 1\n"
     ]
    }
   ],
   "source": [
    "def char_frequency_in_file(filename):\n",
    "    freq = {}\n",
    "    with open(filename, 'r', encoding='utf-8') as f:\n",
    "        while True:\n",
    "            chunk = f.read(1024)  # Read file in chunks to handle large files\n",
    "            if not chunk:\n",
    "                break\n",
    "            for char in chunk:\n",
    "                freq[char] = freq.get(char, 0) + 1\n",
    "    return freq\n",
    "\n",
    "# Example usage\n",
    "filename = input(\"Enter file name to analyze: \")\n",
    "frequency = char_frequency_in_file(filename)\n",
    "\n",
    "print(\"Character frequencies:\")\n",
    "for char, count in sorted(frequency.items()):\n",
    "    if char == '\\n':\n",
    "        display_char = '\\\\n'  # To make newline visible in output\n",
    "    elif char == '\\t':\n",
    "        display_char = '\\\\t'\n",
    "    elif char == ' ':\n",
    "        display_char = \"' '\"\n",
    "    else:\n",
    "        display_char = char\n",
    "    print(f\"{display_char}: {count}\")\n"
   ]
  },
  {
   "cell_type": "markdown",
   "id": "ab855a51-7158-41fa-bd64-b6538922cc43",
   "metadata": {},
   "source": [
    "### Q17"
   ]
  },
  {
   "cell_type": "code",
   "execution_count": 43,
   "id": "19161de3-0d41-486a-b7f6-56bd94cc04bd",
   "metadata": {},
   "outputs": [
    {
     "name": "stdout",
     "output_type": "stream",
     "text": [
      "['eat', 'tea', 'ate']\n",
      "['tan', 'nat']\n",
      "['bat', 'tab']\n"
     ]
    }
   ],
   "source": [
    "def find_anagrams(words):\n",
    "    anagram_dict = {}\n",
    "\n",
    "    for word in words:\n",
    "        # Sort the word into a tuple of characters which will be the key\n",
    "        key = tuple(sorted(word))\n",
    "        anagram_dict.setdefault(key, []).append(word)\n",
    "\n",
    "    # Filter out the groups that have more than one word (actual anagrams)\n",
    "    result = [group for group in anagram_dict.values() if len(group) > 1]\n",
    "\n",
    "    return result\n",
    "\n",
    "# Example usage:\n",
    "words = ['eat', 'tea', 'tan', 'ate', 'nat', 'bat', 'tab']\n",
    "anagram_groups = find_anagrams(words)\n",
    "\n",
    "for group in anagram_groups:\n",
    "    print(group)\n"
   ]
  },
  {
   "cell_type": "code",
   "execution_count": null,
   "id": "6a89a8d5-4d3c-4f9f-9317-cf927e1ec732",
   "metadata": {},
   "outputs": [],
   "source": []
  }
 ],
 "metadata": {
  "kernelspec": {
   "display_name": "Python 3 (ipykernel)",
   "language": "python",
   "name": "python3"
  },
  "language_info": {
   "codemirror_mode": {
    "name": "ipython",
    "version": 3
   },
   "file_extension": ".py",
   "mimetype": "text/x-python",
   "name": "python",
   "nbconvert_exporter": "python",
   "pygments_lexer": "ipython3",
   "version": "3.13.3"
  }
 },
 "nbformat": 4,
 "nbformat_minor": 5
}
