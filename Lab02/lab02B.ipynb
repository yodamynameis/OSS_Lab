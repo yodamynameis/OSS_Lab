{
 "cells": [
  {
   "cell_type": "markdown",
   "id": "656d1972-4060-4c36-99a0-2b9b65fab4fa",
   "metadata": {},
   "source": [
    "## Lab - 02B"
   ]
  },
  {
   "cell_type": "markdown",
   "id": "a5e67fad-865c-43d7-bb49-a761edc6c9d9",
   "metadata": {},
   "source": [
    "### Q1"
   ]
  },
  {
   "cell_type": "code",
   "execution_count": 16,
   "id": "aa61e68e-6914-49cb-913c-36ebd656b928",
   "metadata": {},
   "outputs": [
    {
     "name": "stdout",
     "output_type": "stream",
     "text": [
      "a--> Shivansh\n",
      "b--> Negi\n",
      "c--> ['Kamna', 'Arjun', 'Katiyar']\n",
      "d--> ['Negi', 'Harshit', 'Prabhat', 'Honey', 'Katiyar', 'Arjun', 'Kamna', 'Sanskar', 'Shivansh', 'Anshul']\n",
      "e--> ['Harshit', 'Prabhat', 'Honey', 'Katiyar', 'Arjun', 'Kamna']\n"
     ]
    }
   ],
   "source": [
    "names=[\"Anshul\",\"Shivansh\",\"Sanskar\",\"Kamna\",\"Arjun\",\"Katiyar\",\"Honey\",\"Prabhat\",\"Harshit\",\"Negi\"]\n",
    "print(\"a-->\",names[1])  \n",
    "print(\"b-->\",names[9]) \n",
    "print(\"c-->\",names[3:6]) \n",
    "print(\"d-->\",names[::-1])\n",
    "print(\"e-->\",names[8:2:-1]) "
   ]
  },
  {
   "cell_type": "markdown",
   "id": "c3e2d744-0375-4317-993f-e9397377adb5",
   "metadata": {},
   "source": [
    "### Q2"
   ]
  },
  {
   "cell_type": "code",
   "execution_count": 45,
   "id": "671ecd45-5f11-4bba-8895-64c43f1f5b8d",
   "metadata": {},
   "outputs": [
    {
     "name": "stdout",
     "output_type": "stream",
     "text": [
      "a-->\n",
      "anshul\n",
      "arjun\n",
      "honey\n",
      "avinash\n",
      "aniket\n"
     ]
    }
   ],
   "source": [
    "stu = (\"anshul\",\"arjun\",\"honey\",\"avinash\",\"aniket\")\n",
    "print(\"a-->\")\n",
    "for i in stu:\n",
    "    print(i)"
   ]
  },
  {
   "cell_type": "code",
   "execution_count": 46,
   "id": "bbd61e57-2b67-4a23-88bc-2f1a674f4f0a",
   "metadata": {},
   "outputs": [
    {
     "name": "stdout",
     "output_type": "stream",
     "text": [
      "anshul\n",
      "arjun\n",
      "honey\n",
      "avinash\n",
      "aniket\n",
      "Negi\n",
      "('arjun', 'honey', 'avinash')\n"
     ]
    }
   ],
   "source": [
    "ele=(\"Negi\",)\n",
    "stu=stu+ele\n",
    "for i in stu:\n",
    "    print(i)\n",
    "print(stu[1:4])\n",
    "#Cannot delete or chnage elemnets as Tuples are immutable"
   ]
  },
  {
   "cell_type": "markdown",
   "id": "8af7b625-8ebd-48d4-97a3-a7c4d9d9d60e",
   "metadata": {},
   "source": [
    "### Q3"
   ]
  },
  {
   "cell_type": "code",
   "execution_count": 59,
   "id": "5c0fde1f-c672-45de-9a37-986e4b828179",
   "metadata": {},
   "outputs": [
    {
     "name": "stdout",
     "output_type": "stream",
     "text": [
      "Arjun:23\n",
      "Avinash:50\n"
     ]
    }
   ],
   "source": [
    "dict={\"Anshul\":20,\"Honey\":19,\"Arjun\":23,\"Avinash\":50}\n",
    "for name,age in dict.items():\n",
    "    if age>20:\n",
    "        print(f\"{name}:{age}\")\n",
    "dict[\"Prish\"]=30"
   ]
  },
  {
   "cell_type": "code",
   "execution_count": 60,
   "id": "2105cd0b-9da3-4c56-bf3f-725680bfde18",
   "metadata": {},
   "outputs": [
    {
     "name": "stdout",
     "output_type": "stream",
     "text": [
      "Anshul:20\n",
      "Honey:19\n",
      "Arjun:23\n",
      "Avinash:50\n",
      "Prish:30\n",
      "------------------------------\n",
      "Anshul:20\n",
      "Honey:19\n",
      "Arjun:23\n",
      "Prish:30\n"
     ]
    }
   ],
   "source": [
    "for name , age in dict.items():\n",
    "    print(f\"{name}:{age}\")\n",
    "if \"Avinash\" in dict:\n",
    "    del dict[\"Avinash\"]\n",
    "print(\"------------------------------\")\n",
    "for name , age in dict.items():\n",
    "    print(f\"{name}:{age}\")"
   ]
  },
  {
   "cell_type": "code",
   "execution_count": 62,
   "id": "e9811c59-732a-45ef-a35a-cedf337e1704",
   "metadata": {},
   "outputs": [
    {
     "name": "stdout",
     "output_type": "stream",
     "text": [
      "average age: 23.0\n"
     ]
    }
   ],
   "source": [
    "total = 0;\n",
    "count = 0;\n",
    "for age in dict.values():\n",
    "    total+=age;\n",
    "    count+=1\n",
    "print(f\"average age: {total/count}\")"
   ]
  },
  {
   "cell_type": "markdown",
   "id": "664a43c2-5975-4ebd-a092-e3347052882e",
   "metadata": {},
   "source": [
    "### Q4"
   ]
  },
  {
   "cell_type": "code",
   "execution_count": 71,
   "id": "f0761e84-ca8c-4dfb-b0cc-b70505ec7137",
   "metadata": {},
   "outputs": [
    {
     "name": "stdin",
     "output_type": "stream",
     "text": [
      "Enter the size of list:  5\n",
      "Enter 0th element:  1\n",
      "Enter 1th element:  2\n",
      "Enter 2th element:  3\n",
      "Enter 3th element:  4\n",
      "Enter 4th element:  5\n"
     ]
    },
    {
     "name": "stdout",
     "output_type": "stream",
     "text": [
      "2\n",
      "4\n"
     ]
    }
   ],
   "source": [
    "n= int(input(\"Enter the size of list: \"))\n",
    "nums=[]\n",
    "for i in range(n):\n",
    "    nums.append(int(input(f\"Enter {i}th element: \")))\n",
    "for num in nums:\n",
    "    if num%2==0:\n",
    "        print(num)"
   ]
  },
  {
   "cell_type": "markdown",
   "id": "f22de690-3a68-4695-a8bd-f1eef7d420be",
   "metadata": {},
   "source": [
    "### Q5"
   ]
  },
  {
   "cell_type": "code",
   "execution_count": 77,
   "id": "7c578e2c-f803-473d-ad32-6184efef3d79",
   "metadata": {},
   "outputs": [
    {
     "name": "stdout",
     "output_type": "stream",
     "text": [
      "[1, 2, 5]\n"
     ]
    }
   ],
   "source": [
    "a = [1, 2, 3, 1, 2, 4, 5, 6, 5]\n",
    "s = set()\n",
    "dup = []\n",
    "for n in a:\n",
    "    if n in s:\n",
    "        dup.append(n)\n",
    "    else:\n",
    "        s.add(n)\n",
    "print(dup)"
   ]
  },
  {
   "cell_type": "markdown",
   "id": "361eea1e-68ad-4474-94ef-e80607e840f1",
   "metadata": {},
   "source": [
    "### Q6"
   ]
  },
  {
   "cell_type": "code",
   "execution_count": 76,
   "id": "52ac6dd6-57ac-4e08-974c-1ca628262972",
   "metadata": {},
   "outputs": [
    {
     "name": "stdin",
     "output_type": "stream",
     "text": [
      "Enter a string:  anshul\n"
     ]
    },
    {
     "name": "stdout",
     "output_type": "stream",
     "text": [
      "luhsna\n"
     ]
    }
   ],
   "source": [
    "str=input(\"Enter a string: \")\n",
    "print(str[::-1])"
   ]
  },
  {
   "cell_type": "markdown",
   "id": "ff857fce-75b2-4807-86f2-ccf0032a8504",
   "metadata": {},
   "source": [
    "### Q7"
   ]
  },
  {
   "cell_type": "code",
   "execution_count": 87,
   "id": "40aeb20b-2c8a-4671-badc-a986c76bf7bf",
   "metadata": {},
   "outputs": [
    {
     "name": "stdout",
     "output_type": "stream",
     "text": [
      "0   1   1   2   3   "
     ]
    }
   ],
   "source": [
    "def fibo(n):\n",
    "    if n <= 0:\n",
    "        return \"Invalid input! Please enter a positive integer.\"\n",
    "    elif n == 1:\n",
    "        return 0\n",
    "    elif n == 2:\n",
    "        return 1\n",
    "    else:\n",
    "        return fibo(n - 1) + fibo(n - 2)\n",
    "n=5\n",
    "i=1\n",
    "for i in range(1,n+1):\n",
    "    print(fibo(i),\"  \",end ='')"
   ]
  },
  {
   "cell_type": "markdown",
   "id": "5ee37b8e-395f-42b1-bd8a-e1d5a6f95dd8",
   "metadata": {},
   "source": [
    "### Q8"
   ]
  },
  {
   "cell_type": "code",
   "execution_count": 1,
   "id": "51cc476a-4305-49af-84f1-f21993594fe2",
   "metadata": {},
   "outputs": [
    {
     "name": "stdout",
     "output_type": "stream",
     "text": [
      "File content has been replaced successfully.\n"
     ]
    }
   ],
   "source": [
    "new_content = \"Hi, I am currently pursuing my BTech from Jaypee.\"\n",
    "\n",
    "with open(\"lab_b.txt\", 'w') as file:\n",
    "    file.write(new_content)\n"
   ]
  },
  {
   "cell_type": "markdown",
   "id": "a1b087ab-d982-4f54-ac85-c433d7cb3486",
   "metadata": {},
   "source": [
    "### Q9"
   ]
  },
  {
   "cell_type": "code",
   "execution_count": 5,
   "id": "c43b9187-50a3-4c44-8a97-0d6f46caf6b8",
   "metadata": {},
   "outputs": [
    {
     "name": "stdout",
     "output_type": "stream",
     "text": [
      "i am Anshul singh\n",
      "siuuuuuuuuuuuu\n",
      "Hi, I am currently pursuing my BTech from Jaypee.\n"
     ]
    }
   ],
   "source": [
    "with open(\"lab_b.txt\", 'r') as file:\n",
    "    lines = file.readlines()\n",
    "\n",
    "for line in reversed(lines):\n",
    "    print(line.strip())"
   ]
  },
  {
   "cell_type": "markdown",
   "id": "75642363-4760-4112-8b17-aff5c198cdd4",
   "metadata": {},
   "source": [
    "### Q10"
   ]
  },
  {
   "cell_type": "code",
   "execution_count": 6,
   "id": "0321eb37-afa9-4299-8184-fc79295dd790",
   "metadata": {},
   "outputs": [
    {
     "name": "stdout",
     "output_type": "stream",
     "text": [
      "[1, 3, 5, 7, 9]\n"
     ]
    }
   ],
   "source": [
    "nums=[1, 2, 3, 4, 5, 6, 7, 8, 9, 10]\n",
    "odd=[]\n",
    "for num in nums:\n",
    "    if num%2!=0:\n",
    "        odd.append(num)\n",
    "print(odd)"
   ]
  },
  {
   "cell_type": "markdown",
   "id": "c522bcf6-6985-47e8-aa76-c7c19ddf241d",
   "metadata": {},
   "source": [
    "### Q11"
   ]
  },
  {
   "cell_type": "code",
   "execution_count": 7,
   "id": "75f883c1-5100-4948-a77e-36dcb6757ccf",
   "metadata": {},
   "outputs": [
    {
     "name": "stdout",
     "output_type": "stream",
     "text": [
      "Number of characters in the file: 82\n"
     ]
    }
   ],
   "source": [
    "file_path = \"lab_b.txt\"\n",
    "\n",
    "with open(file_path, 'r') as file:\n",
    "    content = file.read()\n",
    "\n",
    "char_count = len(content)\n",
    "\n",
    "print(\"Number of characters in the file:\", char_count)\n"
   ]
  },
  {
   "cell_type": "markdown",
   "id": "20d20c7a-79df-4f12-a236-53d9a56b8d77",
   "metadata": {},
   "source": [
    "### Q12"
   ]
  },
  {
   "cell_type": "code",
   "execution_count": 8,
   "id": "487f4340-86ac-49e6-9ea0-02bcc5da3083",
   "metadata": {},
   "outputs": [
    {
     "name": "stdout",
     "output_type": "stream",
     "text": [
      "Anagram group: ['eat', 'ate', 'tea']\n",
      "Anagram group: ['bat', 'tab']\n",
      "Anagram group: ['tan', 'ant']\n",
      "Anagram group: ['net', 'ten']\n"
     ]
    }
   ],
   "source": [
    "from collections import defaultdict\n",
    "\n",
    "words = ['eat', 'ate', 'tea', 'bat', 'tab', 'tan', 'ant', 'net', 'ten']\n",
    "\n",
    "anagrams = defaultdict(list)\n",
    "\n",
    "for word in words:\n",
    "    sorted_word = ''.join(sorted(word))\n",
    "    anagrams[sorted_word].append(word)\n",
    "\n",
    "for group in anagrams.values():\n",
    "    if len(group) > 1:\n",
    "        print(\"Anagram group:\", group)\n"
   ]
  },
  {
   "cell_type": "code",
   "execution_count": null,
   "id": "793129e9-ca0b-45aa-815a-3f748e76fea7",
   "metadata": {},
   "outputs": [],
   "source": []
  }
 ],
 "metadata": {
  "kernelspec": {
   "display_name": "Python 3 (ipykernel)",
   "language": "python",
   "name": "python3"
  },
  "language_info": {
   "codemirror_mode": {
    "name": "ipython",
    "version": 3
   },
   "file_extension": ".py",
   "mimetype": "text/x-python",
   "name": "python",
   "nbconvert_exporter": "python",
   "pygments_lexer": "ipython3",
   "version": "3.13.3"
  }
 },
 "nbformat": 4,
 "nbformat_minor": 5
}
