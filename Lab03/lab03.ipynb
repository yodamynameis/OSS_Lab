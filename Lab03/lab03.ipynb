{
 "cells": [
  {
   "cell_type": "markdown",
   "id": "78adeca9-7700-4e15-918e-6701ab51c797",
   "metadata": {},
   "source": [
    "## Anshul Singh\n",
    "## 23103072\n",
    "## Lab 03"
   ]
  },
  {
   "cell_type": "markdown",
   "id": "978339de-039c-472b-a016-6fdd5ef9bef4",
   "metadata": {},
   "source": [
    "### Q1."
   ]
  },
  {
   "cell_type": "code",
   "execution_count": 1,
   "id": "a5027309-d73e-49f0-8e2f-7ae7adb6b068",
   "metadata": {},
   "outputs": [
    {
     "name": "stdout",
     "output_type": "stream",
     "text": [
      "{1: 'a', 2: 'b', 3: 'c'}\n"
     ]
    }
   ],
   "source": [
    "def invertdict(d):\n",
    "    return {v: k for k, v in d.items()}\n",
    "d = {\"a\": 1, \"b\": 2, \"c\": 3}\n",
    "print(invertdict(d))"
   ]
  },
  {
   "cell_type": "markdown",
   "id": "4229a515-07e5-4ffe-8146-b16f0bec313c",
   "metadata": {},
   "source": [
    "## Q2."
   ]
  },
  {
   "cell_type": "code",
   "execution_count": 2,
   "id": "3d330ac7-532d-4cf7-b8da-9bdf2ec2e6c4",
   "metadata": {},
   "outputs": [
    {
     "name": "stdout",
     "output_type": "stream",
     "text": [
      "[1, 2, 3]\n"
     ]
    }
   ],
   "source": [
    "def valuesort(d):\n",
    "    return [d[k] for k in sorted(d.keys())]\n",
    "\n",
    "# Example\n",
    "d = {\"x\": 3, \"a\": 1, \"c\": 2}\n",
    "print(valuesort(d))"
   ]
  },
  {
   "cell_type": "markdown",
   "id": "e74c1137-1f72-480b-bb4a-c7d9f116f577",
   "metadata": {},
   "source": [
    "## Q3."
   ]
  },
  {
   "cell_type": "code",
   "execution_count": 4,
   "id": "409fc787-abe6-4c5d-a8d8-dd7b46c8743e",
   "metadata": {},
   "outputs": [
    {
     "name": "stdout",
     "output_type": "stream",
     "text": [
      "[90, 50, 23]\n"
     ]
    }
   ],
   "source": [
    "def n_largest(lst, N):\n",
    "    return sorted(lst, reverse=True)[:N]\n",
    "\n",
    "print(n_largest([10, 4, 3, 50, 23, 90], 3))"
   ]
  },
  {
   "cell_type": "markdown",
   "id": "1883237f-8c00-438e-90cb-c809a31fc638",
   "metadata": {},
   "source": [
    "## Q4."
   ]
  },
  {
   "cell_type": "code",
   "execution_count": 5,
   "id": "bc2dd8d8-19e2-4119-9a64-ab80756b84d3",
   "metadata": {},
   "outputs": [
    {
     "name": "stdout",
     "output_type": "stream",
     "text": [
      "['ad', 'ae', 'af', 'bd', 'be', 'bf', 'cd', 'ce', 'cf']\n"
     ]
    }
   ],
   "source": [
    "from itertools import product\n",
    "\n",
    "string_maps = {\n",
    "    \"1\": \"abc\",\n",
    "    \"2\": \"def\",\n",
    "    \"3\": \"ghi\",\n",
    "    \"4\": \"jkl\",\n",
    "    \"5\": \"mno\",\n",
    "    \"6\": \"pqrs\",\n",
    "    \"7\": \"tuv\",\n",
    "    \"8\": \"wxy\",\n",
    "    \"9\": \"z\"\n",
    "}\n",
    "\n",
    "def letter_combinations(digits):\n",
    "    if not digits: \n",
    "        return []\n",
    "    pools = [string_maps[d] for d in digits if d in string_maps]\n",
    "    return [''.join(p) for p in product(*pools)]\n",
    "\n",
    "# Example\n",
    "print(letter_combinations(\"12\"))"
   ]
  },
  {
   "cell_type": "markdown",
   "id": "85dcbff0-5b35-4c52-aba3-3931e62a4ac0",
   "metadata": {},
   "source": [
    "## Q5."
   ]
  },
  {
   "cell_type": "code",
   "execution_count": 6,
   "id": "53519b74-f377-4670-b0e7-28f4739f8cf3",
   "metadata": {},
   "outputs": [
    {
     "name": "stdout",
     "output_type": "stream",
     "text": [
      "Number of islands: 5\n"
     ]
    }
   ],
   "source": [
    "def num_islands(grid):\n",
    "    visited = [[False]*10 for _ in range(10)]\n",
    "    \n",
    "    def dfs(r, c):\n",
    "        if r < 0 or c < 0 or r >= 10 or c >= 10 or visited[r][c] or grid[r][c] == 0:\n",
    "            return\n",
    "        visited[r][c] = True\n",
    "        dfs(r+1, c)\n",
    "        dfs(r-1, c)\n",
    "        dfs(r, c+1)\n",
    "        dfs(r, c-1)\n",
    "    \n",
    "    count = 0\n",
    "    for i in range(10):\n",
    "        for j in range(10):\n",
    "            if grid[i][j] == 1 and not visited[i][j]:\n",
    "                dfs(i, j)\n",
    "                count += 1\n",
    "    return count\n",
    "\n",
    "# Example Input\n",
    "data = [\n",
    "\"1100000111\",\n",
    "\"1000000111\",\n",
    "\"0000000111\",\n",
    "\"0010001000\",\n",
    "\"0000011100\",\n",
    "\"0000111110\",\n",
    "\"0001111111\",\n",
    "\"1000111110\",\n",
    "\"1100011100\",\n",
    "\"1110001000\"\n",
    "]\n",
    "\n",
    "grid = [[int(ch) for ch in row] for row in data]\n",
    "print(\"Number of islands:\", num_islands(grid))"
   ]
  },
  {
   "cell_type": "markdown",
   "id": "57a516b9-850e-4026-a0f6-512b5ce48f05",
   "metadata": {},
   "source": [
    "## Q6."
   ]
  },
  {
   "cell_type": "code",
   "execution_count": 7,
   "id": "18fb60e2-43b1-4ce8-8d92-c24577fad3b5",
   "metadata": {},
   "outputs": [
    {
     "name": "stdout",
     "output_type": "stream",
     "text": [
      "[246, 912, 444, 290]\n",
      "[-2, 0, -4, 4, 0, 2]\n"
     ]
    }
   ],
   "source": [
    "def double_numbers(input_str):\n",
    "    numbers = [int(x.strip()) for x in input_str.split(\",\")]\n",
    "    return [2 * n for n in numbers]\n",
    "\n",
    "# Examples\n",
    "print(double_numbers(\"123, 456, 222, 145\"))\n",
    "print(double_numbers(\"-1, 0, -2, 2, 0, 1\"))"
   ]
  },
  {
   "cell_type": "markdown",
   "id": "5b7e4479-fe4d-462d-af93-193326fbb878",
   "metadata": {},
   "source": [
    "## Q7."
   ]
  },
  {
   "cell_type": "code",
   "execution_count": 9,
   "id": "8beb9e56-abd0-4d17-ab89-43f974d2a5d1",
   "metadata": {},
   "outputs": [],
   "source": [
    "import glob\n",
    "\n",
    "def extract_chars_from_files(path_pattern):\n",
    "    chars = []\n",
    "    for filename in glob.glob(path_pattern):\n",
    "        with open(filename, \"r\") as f:\n",
    "            chars.extend(list(f.read()))\n",
    "    return chars"
   ]
  },
  {
   "cell_type": "markdown",
   "id": "e4a887c8-48e7-4d53-a1ef-6c71c46a01d9",
   "metadata": {},
   "source": [
    "## Q8."
   ]
  },
  {
   "cell_type": "code",
   "execution_count": 12,
   "id": "750bff27-cd7e-4db3-9a3a-594d0b44c72d",
   "metadata": {},
   "outputs": [],
   "source": [
    "def vending_machine():\n",
    "    items = {}\n",
    "    with open(\"VendingItems.txt\") as f:\n",
    "        for line in f:\n",
    "            name, price = line.strip().split(\"|\")\n",
    "            items[name] = int(price)\n",
    "\n",
    "    while True:\n",
    "        try:\n",
    "            item = input(\"Enter item: \")\n",
    "            if item not in items:\n",
    "                print(f\"Available Items are {list(items.keys())}.\")\n",
    "                raise ValueError(\"Invalid item\")\n",
    "            break\n",
    "        except ValueError as e:\n",
    "            print(\"Try Again.\")\n",
    "\n",
    "    while True:\n",
    "        try:\n",
    "            money = int(input(\"Enter money: \"))\n",
    "            break\n",
    "        except ValueError:\n",
    "            print(\"Bad Input. Try Again.\")\n",
    "\n",
    "    price = items[item]\n",
    "    if money < price:\n",
    "        print(\"Insufficient balance. Transaction failed.\")\n",
    "    elif money == price:\n",
    "        print(\"Thank you for your purchase. Enjoy!\")\n",
    "    else:\n",
    "        print(\"Thank you for your purchase. Enjoy\")\n",
    "        print(f\"Do not forget to collect your change, {money - price} Rs.\")"
   ]
  },
  {
   "cell_type": "markdown",
   "id": "a4bc3391-80ff-41f3-a53a-592a60fc8a19",
   "metadata": {},
   "source": [
    "## Q9."
   ]
  },
  {
   "cell_type": "code",
   "execution_count": 13,
   "id": "8f36df7c-71a7-4180-881f-e55c24b08b79",
   "metadata": {},
   "outputs": [
    {
     "name": "stdout",
     "output_type": "stream",
     "text": [
      "4\n",
      "4\n"
     ]
    }
   ],
   "source": [
    "\n",
    "def binary_search_iterative(arr, x):\n",
    "    low, high = 0, len(arr)-1\n",
    "    while low <= high:\n",
    "        mid = (low+high)//2\n",
    "        if arr[mid] == x:\n",
    "            return mid\n",
    "        elif arr[mid] < x:\n",
    "            low = mid+1\n",
    "        else:\n",
    "            high = mid-1\n",
    "    return -1\n",
    "\n",
    "def binary_search_recursive(arr, x, low, high):\n",
    "    if low > high:\n",
    "        return -1\n",
    "    mid = (low+high)//2\n",
    "    if arr[mid] == x:\n",
    "        return mid\n",
    "    elif arr[mid] < x:\n",
    "        return binary_search_recursive(arr, x, mid+1, high)\n",
    "    else:\n",
    "        return binary_search_recursive(arr, x, low, mid-1)\n",
    "\n",
    "# Example\n",
    "arr = [1,2,3,4,5,6,7,8,9]\n",
    "print(binary_search_iterative(arr, 5))\n",
    "print(binary_search_recursive(arr, 5, 0, len(arr)-1))"
   ]
  },
  {
   "cell_type": "markdown",
   "id": "1fc878b4-cca0-4f07-a477-662f4adc1bde",
   "metadata": {},
   "source": [
    "## Q10."
   ]
  },
  {
   "cell_type": "code",
   "execution_count": 14,
   "id": "8c35e7af-3a29-457f-90f3-04dee72ce96c",
   "metadata": {},
   "outputs": [],
   "source": [
    "from collections import Counter\n",
    "\n",
    "def most_repetitive_word(filename):\n",
    "    with open(filename, \"r\") as f:\n",
    "        words = f.read().split()\n",
    "    counter = Counter(words)\n",
    "    return counter.most_common(1)[0]"
   ]
  },
  {
   "cell_type": "markdown",
   "id": "91817505-d4ca-43f6-925b-6bd9ca9578c9",
   "metadata": {},
   "source": [
    "## Q11."
   ]
  },
  {
   "cell_type": "code",
   "execution_count": 15,
   "id": "1de4da7c-a732-44db-a774-7aa81fdd25ff",
   "metadata": {},
   "outputs": [
    {
     "name": "stdout",
     "output_type": "stream",
     "text": [
      "[1, 2, 3, 4, 5]\n"
     ]
    }
   ],
   "source": [
    "def unique_list(lst):\n",
    "    return list(set(lst))\n",
    "\n",
    "# Example\n",
    "print(unique_list([1,2,2,3,4,4,5]))"
   ]
  },
  {
   "cell_type": "markdown",
   "id": "c1a6adb2-d0dc-4895-bbd2-52596a2bdc45",
   "metadata": {},
   "source": [
    "## Q12."
   ]
  },
  {
   "cell_type": "code",
   "execution_count": 16,
   "id": "48af8fc2-f394-4099-8f70-da81d488fb4b",
   "metadata": {},
   "outputs": [
    {
     "name": "stdout",
     "output_type": "stream",
     "text": [
      "w\n"
     ]
    }
   ],
   "source": [
    "from collections import Counter\n",
    "\n",
    "def first_non_repeating(s):\n",
    "    freq = Counter(s)\n",
    "    for ch in s:\n",
    "        if freq[ch] == 1:\n",
    "            return ch\n",
    "    return None\n",
    "\n",
    "# Example\n",
    "print(first_non_repeating(\"swiss\"))"
   ]
  },
  {
   "cell_type": "markdown",
   "id": "b3771013-e6a9-425d-9542-eb82e2f135b7",
   "metadata": {},
   "source": [
    "## Q13."
   ]
  },
  {
   "cell_type": "code",
   "execution_count": 17,
   "id": "24c46c25-9d5c-45b0-bec2-77956be73a88",
   "metadata": {},
   "outputs": [
    {
     "name": "stdout",
     "output_type": "stream",
     "text": [
      "['example', 'w3resource', 'github', 'stackoverflow']\n"
     ]
    }
   ],
   "source": [
    "import re\n",
    "\n",
    "def remove_parenthesis(lst):\n",
    "    return [re.sub(r\"\\s*\\(.*?\\)\", \"\", s).strip() for s in lst]\n",
    "\n",
    "# Example\n",
    "data = [\"example (.com)\", \"w3resource\", \"github (.com)\", \"stackoverflow (.com)\"]\n",
    "print(remove_parenthesis(data))"
   ]
  },
  {
   "cell_type": "code",
   "execution_count": null,
   "id": "eb0d44cf-a5c4-4066-b040-f7d6a69b11c8",
   "metadata": {},
   "outputs": [],
   "source": []
  }
 ],
 "metadata": {
  "kernelspec": {
   "display_name": "Python 3 (ipykernel)",
   "language": "python",
   "name": "python3"
  },
  "language_info": {
   "codemirror_mode": {
    "name": "ipython",
    "version": 3
   },
   "file_extension": ".py",
   "mimetype": "text/x-python",
   "name": "python",
   "nbconvert_exporter": "python",
   "pygments_lexer": "ipython3",
   "version": "3.13.3"
  }
 },
 "nbformat": 4,
 "nbformat_minor": 5
}
